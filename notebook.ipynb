{
 "cells": [
  {
   "cell_type": "markdown",
   "metadata": {},
   "source": [
    "## Tasks\n",
    "\n",
    "1. Calculate the share of expenditure on school education incurred by various departments/ministries. \n",
    "2. Estimate the share of capital expenditure.\n",
    "3. Using projected population for each of the years under consideration, estimate the per-capita expenditure on school education in the state, and each district. \n",
    "4. Rank the districts based on utilization of allotted funds of revenue expenditure and capital expenditure (separately)."
   ]
  },
  {
   "cell_type": "code",
   "execution_count": 49,
   "metadata": {},
   "outputs": [],
   "source": [
    "# imports\n",
    "import pandas as pd"
   ]
  },
  {
   "cell_type": "code",
   "execution_count": 2,
   "metadata": {},
   "outputs": [
    {
     "name": "stderr",
     "output_type": "stream",
     "text": [
      "/tmp/ipykernel_2716/4021118026.py:2: DtypeWarning: Columns (4) have mixed types. Specify dtype option on import or set low_memory=False.\n",
      "  data2017 = pd.read_csv('./data/district_level_mapping_2017.csv')\n"
     ]
    }
   ],
   "source": [
    "# data files\n",
    "data2017 = pd.read_csv('./data/district_level_mapping_2017.csv')\n",
    "data2018 = pd.read_csv('./data/district_level_mapping_2018.csv')\n",
    "data2019 = pd.read_csv('./data/district_level_mapping_2019.csv')\n",
    "data2020 = pd.read_csv('./data/district_level_mapping_2020.csv')\n",
    "\n",
    "# for arrey operation on all files\n",
    "arr = [data2017, data2018, data2019, data2020]\n",
    "\n",
    "# adding all dataframes into one\n",
    "all_data = pd.concat(arr)"
   ]
  },
  {
   "cell_type": "markdown",
   "metadata": {},
   "source": [
    "### Calculate the share of expenditure on school education incurred by various departments/ministries. \n",
    "education departments : शिक्षा विभाग (प्राथमिक शिक्षा), शिक्षा विभाग (माध्यमिक शिक्षा), शिक्षा विभाग (उच्च शिक्षा), शिक्षा विभाग(राज्य शैक्षिक अनुसंधान एवं प्रशिक्षण परिषद्), व्यावसायिक शिक्षा विभाग, प्राविधिक शिक्षा विभाग, चिकित्सा विभाग (चिकित्सा, शिक्षा एवं प्रशिक्षण)\n",
    "\n",
    "school education departments : शिक्षा विभाग (प्राथमिक शिक्षा), शिक्षा विभाग (माध्यमिक शिक्षा), शिक्षा विभाग (उच्च शिक्षा)"
   ]
  },
  {
   "cell_type": "code",
   "execution_count": 3,
   "metadata": {},
   "outputs": [],
   "source": [
    "# filter dataframe with selected values that denote school education\n",
    "edu_dept = ['शिक्षा विभाग (प्राथमिक शिक्षा)', 'शिक्षा विभाग (माध्यमिक शिक्षा)', 'शिक्षा विभाग (उच्च शिक्षा)']  #values to filter\n",
    "result_df = all_data[all_data['Grant Head Description'].isin(edu_dept)]         #filtered final data\n",
    "output = result_df.sort_values(by=['Division Description'])                     #sorted final data\n",
    "output.to_csv('./output/task1.csv')"
   ]
  },
  {
   "cell_type": "markdown",
   "metadata": {},
   "source": [
    "## Estimate the share of capital expenditure."
   ]
  },
  {
   "cell_type": "code",
   "execution_count": 50,
   "metadata": {},
   "outputs": [],
   "source": [
    "\n",
    "CapEx = all_data.set_index('Scheme Code')        #get data ready to be filtered according to scheme code\n",
    "CapEx = CapEx.filter(\n",
    "    regex='^[4-9]+[0-9]+', axis=0\n",
    "    ).sort_values(\n",
    "        by=['Division Description']\n",
    "        )                                       #check  If the first digit of the scheme code begins with a 4 or above\n",
    "CapEx.to_csv('./output/task2.csv')              #final filtered and sorted data of capital expenditures for all years"
   ]
  },
  {
   "cell_type": "code",
   "execution_count": null,
   "metadata": {},
   "outputs": [],
   "source": []
  },
  {
   "cell_type": "code",
   "execution_count": null,
   "metadata": {},
   "outputs": [],
   "source": []
  }
 ],
 "metadata": {
  "kernelspec": {
   "display_name": "Python 3.8.10 ('.data_analysis': venv)",
   "language": "python",
   "name": "python3"
  },
  "language_info": {
   "codemirror_mode": {
    "name": "ipython",
    "version": 3
   },
   "file_extension": ".py",
   "mimetype": "text/x-python",
   "name": "python",
   "nbconvert_exporter": "python",
   "pygments_lexer": "ipython3",
   "version": "3.8.10"
  },
  "orig_nbformat": 4,
  "vscode": {
   "interpreter": {
    "hash": "6b79177849ed85e47e1feb326c95ad55999e9234f2794b4cd0d6de5c01b6d9be"
   }
  }
 },
 "nbformat": 4,
 "nbformat_minor": 2
}

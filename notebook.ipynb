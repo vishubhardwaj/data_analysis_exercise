{
 "cells": [
  {
   "cell_type": "markdown",
   "metadata": {},
   "source": [
    "## Tasks\n",
    "\n",
    "1. Calculate the share of expenditure on school education incurred by various departments/ministries. \n",
    "2. Estimate the share of capital expenditure.\n",
    "3. Using projected population for each of the years under consideration, estimate the per-capita expenditure on school education in the state, and each district. \n",
    "4. Rank the districts based on utilization of allotted funds of revenue expenditure and capital expenditure (separately)."
   ]
  },
  {
   "cell_type": "markdown",
   "metadata": {},
   "source": [
    "### Imports : Library and data"
   ]
  },
  {
   "cell_type": "code",
   "execution_count": 50,
   "metadata": {},
   "outputs": [],
   "source": [
    "# imports\n",
    "import pandas as pd\n",
    "import re"
   ]
  },
  {
   "cell_type": "code",
   "execution_count": 2,
   "metadata": {},
   "outputs": [
    {
     "name": "stderr",
     "output_type": "stream",
     "text": [
      "/tmp/ipykernel_7094/2930902229.py:2: DtypeWarning: Columns (4) have mixed types. Specify dtype option on import or set low_memory=False.\n",
      "  data2017 = pd.read_csv('./data/district_level_mapping_2017.csv')\n"
     ]
    }
   ],
   "source": [
    "# data files\n",
    "data2017 = pd.read_csv('./data/district_level_mapping_2017.csv')\n",
    "data2018 = pd.read_csv('./data/district_level_mapping_2018.csv')\n",
    "data2019 = pd.read_csv('./data/district_level_mapping_2019.csv')\n",
    "data2020 = pd.read_csv('./data/district_level_mapping_2020.csv')\n",
    "meta = pd.read_excel('./data/Metadata.xlsx')\n",
    "# for arrey operation on all files\n",
    "arr = [data2017, data2018, data2019, data2020]\n",
    "# adding all dataframes into one\n",
    "all_data = pd.concat(arr)"
   ]
  },
  {
   "cell_type": "markdown",
   "metadata": {},
   "source": [
    "### Initial Processing\n",
    "(preparing the data)\n",
    "- Fill NaN with 0.\n",
    "- generate single column of overall expenditure."
   ]
  },
  {
   "cell_type": "code",
   "execution_count": 3,
   "metadata": {},
   "outputs": [],
   "source": [
    "# fill na values\n",
    "def initial_process(arr):\n",
    "    \"\"\"\n",
    "    This function fills NaN values with 0.0 and adds two new columns at the end of dataframe :\n",
    "    1. Overall Expenditure : one value instead of three different columns\n",
    "    2. Excess : Surplus left after expenditure\n",
    "\n",
    "    It takes in a list of dataframes, single dataframes can be passed as a single item list.\n",
    "\n",
    "    It'll return a new arrey (list) of all Dataframes now processed.\n",
    "    \"\"\"\n",
    "    new_arr = []\n",
    "    for df in arr:\n",
    "        df['overall expenditure'] = 0\n",
    "        df['excess'] = 0\n",
    "        df.fillna(0.0)\n",
    "        for i in range(len(df)):\n",
    "            if df.iloc[i, 16] != 0:\n",
    "                df.iloc[i, 20] = df.iloc[i, 16]\n",
    "                df.iloc[i, 21] = df.iloc[i, 15] - df.iloc[i, 16]\n",
    "\n",
    "            elif df.iloc[i, 17] != 0:\n",
    "                df.iloc[i, 20] = df.iloc[i, 17]\n",
    "                df.iloc[i, 21] = df.iloc[i, 15] - df.iloc[i, 17]\n",
    "\n",
    "            elif df.iloc[i, 18] != 0:\n",
    "                df.iloc[i, 20] = df.iloc[i, 18]\n",
    "                df.iloc[i, 21] = df.iloc[i, 15] - df.iloc[i, 18]   \n",
    "        new_arr.append(df)\n",
    "\n",
    "    return new_arr\n",
    "\n",
    "#create a new instance for all available data\n",
    "new_arr = initial_process(arr)"
   ]
  },
  {
   "cell_type": "code",
   "execution_count": null,
   "metadata": {},
   "outputs": [],
   "source": []
  },
  {
   "cell_type": "markdown",
   "metadata": {},
   "source": [
    "### Calculate the share of expenditure on school education incurred by various departments/ministries. \n",
    "education departments : शिक्षा विभाग (प्राथमिक शिक्षा), शिक्षा विभाग (माध्यमिक शिक्षा), शिक्षा विभाग (उच्च शिक्षा), शिक्षा विभाग(राज्य शैक्षिक अनुसंधान एवं प्रशिक्षण परिषद्), व्यावसायिक शिक्षा विभाग, प्राविधिक शिक्षा विभाग, चिकित्सा विभाग (चिकित्सा, शिक्षा एवं प्रशिक्षण)\n",
    "\n",
    "school education departments : शिक्षा विभाग (प्राथमिक शिक्षा), शिक्षा विभाग (माध्यमिक शिक्षा), शिक्षा विभाग (उच्च शिक्षा)"
   ]
  },
  {
   "cell_type": "code",
   "execution_count": 25,
   "metadata": {},
   "outputs": [],
   "source": [
    "# filter dataframe with selected values that denote school education\n",
    "def school_edu_Exp(arr):\n",
    "    \"\"\"\n",
    "    This function takes in the list of dataframes and filters and sorts\n",
    "    values based on classification of school education departments.\n",
    "\n",
    "    It'll return a new arrey (list) of all Dataframes now processed.\n",
    "    \"\"\"\n",
    "\n",
    "    edu_dept = ['शिक्षा विभाग (प्राथमिक शिक्षा)', 'शिक्षा विभाग (माध्यमिक शिक्षा)', 'शिक्षा विभाग (उच्च शिक्षा)']  #values to filter\n",
    "\n",
    "    new_arr = []\n",
    "    for df in arr:\n",
    "        result_df = df[df['Grant Head Description'].isin(edu_dept)]         #filtered final data\n",
    "        output = result_df.sort_values(by=['Division Description'])         #sorted final data\n",
    "        new_arr.append(output)\n",
    "    \n",
    "    return new_arr\n",
    "\n",
    "# Filter and sort the data we have and save it in csv:\n",
    "\n",
    "school_edu_Exp = school_edu_Exp(new_arr)"
   ]
  },
  {
   "cell_type": "code",
   "execution_count": 28,
   "metadata": {},
   "outputs": [
    {
     "data": {
      "text/plain": [
       "4"
      ]
     },
     "execution_count": 28,
     "metadata": {},
     "output_type": "execute_result"
    }
   ],
   "source": []
  },
  {
   "cell_type": "code",
   "execution_count": 30,
   "metadata": {},
   "outputs": [
    {
     "name": "stdout",
     "output_type": "stream",
     "text": [
      "State saved -1.12 % of fund in 2017-2018\n",
      "State saved -1.53 % of fund in 2018-2019\n",
      "State saved -0.32 % of fund in 2019-2020\n",
      "State saved 5.33 % of fund in 2020-2021\n"
     ]
    }
   ],
   "source": [
    "\n",
    "year = 2017\n",
    "for df in school_edu_Exp:\n",
    "    df.to_csv(f'./output/task-1 ({year}-{year + 1}).csv')\n",
    "    expenditure = (df[df.columns[21]].sum() *100) / (df[df.columns[15]].sum())\n",
    "    print(f'State saved {round(expenditure, 2)} % of fund in {year}-{year+1}')\n",
    "    year = year + 1"
   ]
  },
  {
   "cell_type": "markdown",
   "metadata": {},
   "source": [
    "## Estimate the share of capital expenditure."
   ]
  },
  {
   "cell_type": "code",
   "execution_count": 93,
   "metadata": {},
   "outputs": [],
   "source": [
    "\n",
    "def CapEx_filter(arr):\n",
    "    \"\"\"\n",
    "    This function takes in the list of dataframes and filters and sorts\n",
    "    values based on if the scheme code begins with a 4 or above.\n",
    "\n",
    "    It'll return a new arrey (list) of all Dataframes now processed.\n",
    "    \"\"\"\n",
    "    new_arr = []\n",
    "    for df in arr:\n",
    "        newdf = df\n",
    "        CapEx = newdf.set_index('Scheme Code')    #get data ready to be filtered according to scheme code\n",
    "        CapEx = CapEx.filter(\n",
    "            regex='^[4-9]+[0-9]+', axis=0\n",
    "            ).sort_values(\n",
    "                by=['Division Description']\n",
    "                )                      #check  If the first digit of the scheme code begins with a 4 or above\n",
    "        new_arr.append(CapEx)\n",
    "    return new_arr\n",
    "\n",
    "#final filtered and sorted data of capital expenditures for all years\n",
    "total_capEx = CapEx_filter(school_edu_Exp)\n",
    "# Save output csv\n",
    "year = 2017\n",
    "for df in total_capEx:\n",
    "    df.to_csv(f'./output/task-2 ({year}-{year + 1}).csv')   \n",
    "    year = year + 1"
   ]
  },
  {
   "cell_type": "code",
   "execution_count": 120,
   "metadata": {},
   "outputs": [
    {
     "name": "stdout",
     "output_type": "stream",
     "text": [
      "State capital expenditure is 24.32 % in (2017-2018)\n",
      "State capital expenditure is 2.12 % in (2018-2019)\n",
      "State capital expenditure is 0.0 % in (2019-2020)\n",
      "State capital expenditure is -16.34 % in (2020-2021)\n"
     ]
    }
   ],
   "source": [
    "year = 2017\n",
    "for df in total_capEx:\n",
    "    capex = (df[df.columns[20]].sum() * 100) / df[df.columns[15]].sum()\n",
    "    print(f'State capital expenditure is {round(capex, 2)} % in ({year}-{year + 1})')   \n",
    "    year = year + 1"
   ]
  },
  {
   "cell_type": "markdown",
   "metadata": {},
   "source": [
    "### Using projected population for each of the years under consideration, estimate the per-capita expenditure on school education in the state, and each district.\n",
    "\n",
    "population data source : https://www.census2011.co.in/census/state/uttar+pradesh.html"
   ]
  },
  {
   "cell_type": "code",
   "execution_count": 122,
   "metadata": {},
   "outputs": [
    {
     "name": "stdout",
     "output_type": "stream",
     "text": [
      "per capita expenditure in 2017-18 : 5104.66\n",
      "per capita expenditure in 2018-19 : 4638.78\n",
      "per capita expenditure in 2019-20 : 4049.9\n",
      "per capita expenditure in 2020-21 : 3895.74\n"
     ]
    }
   ],
   "source": [
    "population = {\n",
    "    '2017-18' : 224571834,\n",
    "    '2018-19' : 228054788,\n",
    "    '2019-20' : 231521022,\n",
    "    '2020-21' : 234969561,\n",
    "}\n",
    "    \n",
    "# per capita education expenditure\n",
    "for key,df in zip(population, school_edu_Exp):\n",
    "    per_cap = df[df.columns[20]].sum() / population[key]\n",
    "    print(f'per capita expenditure in {key} : {round(per_cap, 2)}')"
   ]
  },
  {
   "cell_type": "markdown",
   "metadata": {},
   "source": [
    "### Rank the districts based on utilization of allotted funds of revenue expenditure and capital expenditure (separately)."
   ]
  },
  {
   "cell_type": "code",
   "execution_count": 127,
   "metadata": {},
   "outputs": [],
   "source": [
    "def ranked_districts(arr):\n",
    "    \"\"\"\n",
    "    This function takes arrey of Dataframes and sorts each data frame according \n",
    "    to custom column added initially \"excess\". The logic is to sort districts based\n",
    "    on which districts still have excess fund left after expenditure.\n",
    "    \"\"\"\n",
    "    new_arr = []\n",
    "    for df in arr:\n",
    "        df = df.sort_values(by='excess', ascending=False)\n",
    "        new_arr.append(df)\n",
    "    return new_arr\n",
    "\n",
    "School_Exp = ranked_districts(school_edu_Exp)\n",
    "Capital_Exp = ranked_districts(total_capEx)"
   ]
  },
  {
   "cell_type": "code",
   "execution_count": 129,
   "metadata": {},
   "outputs": [],
   "source": [
    "# Save files of ranking for school expenditure\n",
    "year = 2017\n",
    "for df in School_Exp:\n",
    "    df.to_csv(f'./output/task-4.a({year}-{year + 1}).csv')   \n",
    "    year = year + 1\n",
    "# Save files of ranking for school expenditure\n",
    "year = 2017\n",
    "for df in Capital_Exp:\n",
    "    df.to_csv(f'./output/task-4.b({year}-{year + 1}).csv')   \n",
    "    year = year + 1"
   ]
  },
  {
   "cell_type": "code",
   "execution_count": null,
   "metadata": {},
   "outputs": [],
   "source": []
  }
 ],
 "metadata": {
  "kernelspec": {
   "display_name": "Python 3.8.10 ('.data_analysis': venv)",
   "language": "python",
   "name": "python3"
  },
  "language_info": {
   "codemirror_mode": {
    "name": "ipython",
    "version": 3
   },
   "file_extension": ".py",
   "mimetype": "text/x-python",
   "name": "python",
   "nbconvert_exporter": "python",
   "pygments_lexer": "ipython3",
   "version": "3.8.10"
  },
  "orig_nbformat": 4,
  "vscode": {
   "interpreter": {
    "hash": "6b79177849ed85e47e1feb326c95ad55999e9234f2794b4cd0d6de5c01b6d9be"
   }
  }
 },
 "nbformat": 4,
 "nbformat_minor": 2
}
